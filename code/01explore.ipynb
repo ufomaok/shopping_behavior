{
 "cells": [
  {
   "cell_type": "markdown",
   "metadata": {},
   "source": [
    "## Exploratory Data Analysis I\n",
    "\n",
    "Let's begin our analysis by exploring both the univariate and bivariate characteristics of this dataset. The general goals of this step include: \n",
    "\n",
    "* finding outliers & distributions through univariate visualizations\n",
    "* finding trends & patterns through bivariate visualizations\n",
    "\n",
    "When you are done with this section of the project, validate that your output matches the screenshot provided in the `docs/part1.md` file and answer the questions located underneath `Exploratory Data Analysis II` in your own words."
   ]
  },
  {
   "cell_type": "code",
   "execution_count": 30,
   "metadata": {},
   "outputs": [],
   "source": [
    "import pandas as pd\n",
    "\n",
    "import matplotlib.pyplot as plt\n",
    "import seaborn as sns"
   ]
  },
  {
   "cell_type": "code",
   "execution_count": 31,
   "metadata": {},
   "outputs": [],
   "source": [
    "# TODO: load `data/raw/shopping.csv` as a pandas dataframe\n",
    "# Documentation: https://pandas.pydata.org/docs/reference/api/pandas.read_csv.html\n",
    "\n",
    "df = pd.read_csv('../data/raw/shopping.csv')"
   ]
  },
  {
   "cell_type": "code",
   "execution_count": 32,
   "metadata": {},
   "outputs": [
    {
     "data": {
      "text/html": [
       "<div>\n",
       "<style scoped>\n",
       "    .dataframe tbody tr th:only-of-type {\n",
       "        vertical-align: middle;\n",
       "    }\n",
       "\n",
       "    .dataframe tbody tr th {\n",
       "        vertical-align: top;\n",
       "    }\n",
       "\n",
       "    .dataframe thead th {\n",
       "        text-align: right;\n",
       "    }\n",
       "</style>\n",
       "<table border=\"1\" class=\"dataframe\">\n",
       "  <thead>\n",
       "    <tr style=\"text-align: right;\">\n",
       "      <th></th>\n",
       "      <th>Customer ID</th>\n",
       "      <th>Age</th>\n",
       "      <th>Gender</th>\n",
       "      <th>Item Purchased</th>\n",
       "      <th>Purchase Amount (USD)</th>\n",
       "      <th>Location</th>\n",
       "      <th>Size</th>\n",
       "      <th>Color</th>\n",
       "      <th>Season</th>\n",
       "      <th>Review Rating</th>\n",
       "      <th>Shipping Type</th>\n",
       "      <th>Promo Code Used</th>\n",
       "      <th>Previous Purchases</th>\n",
       "      <th>Payment Method</th>\n",
       "      <th>Frequency of Purchases</th>\n",
       "    </tr>\n",
       "  </thead>\n",
       "  <tbody>\n",
       "    <tr>\n",
       "      <th>0</th>\n",
       "      <td>3475</td>\n",
       "      <td>NaN</td>\n",
       "      <td>Male</td>\n",
       "      <td>Jacket</td>\n",
       "      <td>30.904467</td>\n",
       "      <td>Maine</td>\n",
       "      <td>M</td>\n",
       "      <td>Burnt orange</td>\n",
       "      <td>Fall</td>\n",
       "      <td>4.0</td>\n",
       "      <td>Standard</td>\n",
       "      <td>No</td>\n",
       "      <td>0</td>\n",
       "      <td>Credit Card</td>\n",
       "      <td>NaN</td>\n",
       "    </tr>\n",
       "    <tr>\n",
       "      <th>1</th>\n",
       "      <td>3698</td>\n",
       "      <td>21.0</td>\n",
       "      <td>Female</td>\n",
       "      <td>Backpack</td>\n",
       "      <td>31.588259</td>\n",
       "      <td>NaN</td>\n",
       "      <td>L</td>\n",
       "      <td>Turquoise</td>\n",
       "      <td>Winter</td>\n",
       "      <td>2.0</td>\n",
       "      <td>Express</td>\n",
       "      <td>No</td>\n",
       "      <td>1</td>\n",
       "      <td>Credit Card</td>\n",
       "      <td>Monthly</td>\n",
       "    </tr>\n",
       "    <tr>\n",
       "      <th>2</th>\n",
       "      <td>2756</td>\n",
       "      <td>31.0</td>\n",
       "      <td>Male</td>\n",
       "      <td>Leggings</td>\n",
       "      <td>24.231704</td>\n",
       "      <td>Nevada</td>\n",
       "      <td>M</td>\n",
       "      <td>Terra cotta</td>\n",
       "      <td>Winter</td>\n",
       "      <td>4.0</td>\n",
       "      <td>Standard</td>\n",
       "      <td>No</td>\n",
       "      <td>0</td>\n",
       "      <td>Credit Card</td>\n",
       "      <td>NaN</td>\n",
       "    </tr>\n",
       "    <tr>\n",
       "      <th>3</th>\n",
       "      <td>3340</td>\n",
       "      <td>NaN</td>\n",
       "      <td>Male</td>\n",
       "      <td>Pajamas</td>\n",
       "      <td>33.918834</td>\n",
       "      <td>Nebraska</td>\n",
       "      <td>M</td>\n",
       "      <td>Black</td>\n",
       "      <td>Winter</td>\n",
       "      <td>NaN</td>\n",
       "      <td>Standard</td>\n",
       "      <td>No</td>\n",
       "      <td>2</td>\n",
       "      <td>Credit Card</td>\n",
       "      <td>Bi-Weekly</td>\n",
       "    </tr>\n",
       "    <tr>\n",
       "      <th>4</th>\n",
       "      <td>3391</td>\n",
       "      <td>38.0</td>\n",
       "      <td>Male</td>\n",
       "      <td>Sunglasses</td>\n",
       "      <td>36.545487</td>\n",
       "      <td>Oregon</td>\n",
       "      <td>S</td>\n",
       "      <td>Aubergine</td>\n",
       "      <td>Summer</td>\n",
       "      <td>NaN</td>\n",
       "      <td>Standard</td>\n",
       "      <td>No</td>\n",
       "      <td>0</td>\n",
       "      <td>Credit Card</td>\n",
       "      <td>NaN</td>\n",
       "    </tr>\n",
       "  </tbody>\n",
       "</table>\n",
       "</div>"
      ],
      "text/plain": [
       "   Customer ID   Age  Gender Item Purchased  Purchase Amount (USD)  Location  \\\n",
       "0         3475   NaN    Male         Jacket              30.904467     Maine   \n",
       "1         3698  21.0  Female       Backpack              31.588259       NaN   \n",
       "2         2756  31.0    Male       Leggings              24.231704    Nevada   \n",
       "3         3340   NaN    Male        Pajamas              33.918834  Nebraska   \n",
       "4         3391  38.0    Male     Sunglasses              36.545487    Oregon   \n",
       "\n",
       "  Size         Color  Season  Review Rating Shipping Type Promo Code Used  \\\n",
       "0    M  Burnt orange    Fall            4.0      Standard              No   \n",
       "1    L     Turquoise  Winter            2.0       Express              No   \n",
       "2    M   Terra cotta  Winter            4.0      Standard              No   \n",
       "3    M         Black  Winter            NaN      Standard              No   \n",
       "4    S     Aubergine  Summer            NaN      Standard              No   \n",
       "\n",
       "   Previous Purchases Payment Method Frequency of Purchases  \n",
       "0                   0    Credit Card                    NaN  \n",
       "1                   1    Credit Card                Monthly  \n",
       "2                   0    Credit Card                    NaN  \n",
       "3                   2    Credit Card              Bi-Weekly  \n",
       "4                   0    Credit Card                    NaN  "
      ]
     },
     "execution_count": 32,
     "metadata": {},
     "output_type": "execute_result"
    }
   ],
   "source": [
    "# TODO: print out the first 5 rows for display\n",
    "# Documentation: https://pandas.pydata.org/docs/reference/api/pandas.DataFrame.head.html\n",
    "\n",
    "df.head()"
   ]
  },
  {
   "cell_type": "code",
   "execution_count": 33,
   "metadata": {},
   "outputs": [
    {
     "data": {
      "text/html": [
       "<div>\n",
       "<style scoped>\n",
       "    .dataframe tbody tr th:only-of-type {\n",
       "        vertical-align: middle;\n",
       "    }\n",
       "\n",
       "    .dataframe tbody tr th {\n",
       "        vertical-align: top;\n",
       "    }\n",
       "\n",
       "    .dataframe thead th {\n",
       "        text-align: right;\n",
       "    }\n",
       "</style>\n",
       "<table border=\"1\" class=\"dataframe\">\n",
       "  <thead>\n",
       "    <tr style=\"text-align: right;\">\n",
       "      <th></th>\n",
       "      <th>Customer ID</th>\n",
       "      <th>Age</th>\n",
       "      <th>Purchase Amount (USD)</th>\n",
       "      <th>Review Rating</th>\n",
       "      <th>Previous Purchases</th>\n",
       "    </tr>\n",
       "  </thead>\n",
       "  <tbody>\n",
       "    <tr>\n",
       "      <th>count</th>\n",
       "      <td>3900.000000</td>\n",
       "      <td>3510.000000</td>\n",
       "      <td>3900.000000</td>\n",
       "      <td>1431.000000</td>\n",
       "      <td>3900.000000</td>\n",
       "    </tr>\n",
       "    <tr>\n",
       "      <th>mean</th>\n",
       "      <td>1950.500000</td>\n",
       "      <td>34.256695</td>\n",
       "      <td>38.708329</td>\n",
       "      <td>3.904962</td>\n",
       "      <td>5.841538</td>\n",
       "    </tr>\n",
       "    <tr>\n",
       "      <th>std</th>\n",
       "      <td>1125.977353</td>\n",
       "      <td>10.616340</td>\n",
       "      <td>11.504923</td>\n",
       "      <td>1.105952</td>\n",
       "      <td>5.843695</td>\n",
       "    </tr>\n",
       "    <tr>\n",
       "      <th>min</th>\n",
       "      <td>1.000000</td>\n",
       "      <td>18.000000</td>\n",
       "      <td>11.392520</td>\n",
       "      <td>1.000000</td>\n",
       "      <td>0.000000</td>\n",
       "    </tr>\n",
       "    <tr>\n",
       "      <th>25%</th>\n",
       "      <td>975.750000</td>\n",
       "      <td>26.000000</td>\n",
       "      <td>29.332617</td>\n",
       "      <td>4.000000</td>\n",
       "      <td>1.000000</td>\n",
       "    </tr>\n",
       "    <tr>\n",
       "      <th>50%</th>\n",
       "      <td>1950.500000</td>\n",
       "      <td>33.000000</td>\n",
       "      <td>36.953004</td>\n",
       "      <td>4.000000</td>\n",
       "      <td>4.000000</td>\n",
       "    </tr>\n",
       "    <tr>\n",
       "      <th>75%</th>\n",
       "      <td>2925.250000</td>\n",
       "      <td>41.000000</td>\n",
       "      <td>48.739596</td>\n",
       "      <td>5.000000</td>\n",
       "      <td>9.000000</td>\n",
       "    </tr>\n",
       "    <tr>\n",
       "      <th>max</th>\n",
       "      <td>3900.000000</td>\n",
       "      <td>75.000000</td>\n",
       "      <td>69.567481</td>\n",
       "      <td>5.000000</td>\n",
       "      <td>20.000000</td>\n",
       "    </tr>\n",
       "  </tbody>\n",
       "</table>\n",
       "</div>"
      ],
      "text/plain": [
       "       Customer ID          Age  Purchase Amount (USD)  Review Rating  \\\n",
       "count  3900.000000  3510.000000            3900.000000    1431.000000   \n",
       "mean   1950.500000    34.256695              38.708329       3.904962   \n",
       "std    1125.977353    10.616340              11.504923       1.105952   \n",
       "min       1.000000    18.000000              11.392520       1.000000   \n",
       "25%     975.750000    26.000000              29.332617       4.000000   \n",
       "50%    1950.500000    33.000000              36.953004       4.000000   \n",
       "75%    2925.250000    41.000000              48.739596       5.000000   \n",
       "max    3900.000000    75.000000              69.567481       5.000000   \n",
       "\n",
       "       Previous Purchases  \n",
       "count         3900.000000  \n",
       "mean             5.841538  \n",
       "std              5.843695  \n",
       "min              0.000000  \n",
       "25%              1.000000  \n",
       "50%              4.000000  \n",
       "75%              9.000000  \n",
       "max             20.000000  "
      ]
     },
     "execution_count": 33,
     "metadata": {},
     "output_type": "execute_result"
    }
   ],
   "source": [
    "# TODO: Print out summary statistics for all numeric columns\n",
    "# Documentation: https://pandas.pydata.org/docs/reference/api/pandas.DataFrame.describe.html\n",
    "\n",
    "df.describe()"
   ]
  },
  {
   "cell_type": "markdown",
   "metadata": {},
   "source": [
    "## Univariate Analysis\n",
    "\n",
    "Let's generate visualizatons for each numeric variable to get an idea of the outliers & distributions present in our dataset.\n",
    "\n",
    "In addition, let's also visualize the frequency-count of qualitative variables to get an understanding of the composition of our dataset. "
   ]
  },
  {
   "cell_type": "code",
   "execution_count": 34,
   "metadata": {},
   "outputs": [
    {
     "name": "stderr",
     "output_type": "stream",
     "text": [
      "c:\\Users\\Uma\\anaconda3\\envs\\phase1\\lib\\site-packages\\seaborn\\_oldcore.py:1498: FutureWarning: is_categorical_dtype is deprecated and will be removed in a future version. Use isinstance(dtype, CategoricalDtype) instead\n",
      "  if pd.api.types.is_categorical_dtype(vector):\n",
      "c:\\Users\\Uma\\anaconda3\\envs\\phase1\\lib\\site-packages\\seaborn\\_oldcore.py:1119: FutureWarning: use_inf_as_na option is deprecated and will be removed in a future version. Convert inf values to NaN before operating instead.\n",
      "  with pd.option_context('mode.use_inf_as_na', True):\n"
     ]
    },
    {
     "data": {
      "text/plain": [
       "<Axes: xlabel='Age', ylabel='Count'>"
      ]
     },
     "execution_count": 34,
     "metadata": {},
     "output_type": "execute_result"
    },
    {
     "data": {
      "image/png": "[encoded data removed]",
      "text/plain": [
       "<Figure size 640x480 with 1 Axes>"
      ]
     },
     "metadata": {},
     "output_type": "display_data"
    }
   ],
   "source": [
    "# TODO: plot a seaborn histogram for the \"Age\" column\n",
    "# Documentation: https://seaborn.pydata.org/generated/seaborn.histplot.html\n",
    "\n",
    "sns.histplot(x = 'Age', data = df)"
   ]
  },
  {
   "cell_type": "code",
   "execution_count": 35,
   "metadata": {},
   "outputs": [
    {
     "name": "stderr",
     "output_type": "stream",
     "text": [
      "c:\\Users\\Uma\\anaconda3\\envs\\phase1\\lib\\site-packages\\seaborn\\_oldcore.py:1498: FutureWarning: is_categorical_dtype is deprecated and will be removed in a future version. Use isinstance(dtype, CategoricalDtype) instead\n",
      "  if pd.api.types.is_categorical_dtype(vector):\n",
      "c:\\Users\\Uma\\anaconda3\\envs\\phase1\\lib\\site-packages\\seaborn\\_oldcore.py:1119: FutureWarning: use_inf_as_na option is deprecated and will be removed in a future version. Convert inf values to NaN before operating instead.\n",
      "  with pd.option_context('mode.use_inf_as_na', True):\n"
     ]
    },
    {
     "data": {
      "text/plain": [
       "<Axes: xlabel='Purchase Amount (USD)', ylabel='Count'>"
      ]
     },
     "execution_count": 35,
     "metadata": {},
     "output_type": "execute_result"
    },
    {
     "data": {
      "image/png": "[encoded data removed]",
      "text/plain": [
       "<Figure size 640x480 with 1 Axes>"
      ]
     },
     "metadata": {},
     "output_type": "display_data"
    }
   ],
   "source": [
    "# TODO: plot a seaborn histogram for the \"Purchase Amount (USD)\" column\n",
    "\n",
    "sns.histplot(data = df, x = 'Purchase Amount (USD)')"
   ]
  },
  {
   "cell_type": "code",
   "execution_count": 36,
   "metadata": {},
   "outputs": [
    {
     "name": "stderr",
     "output_type": "stream",
     "text": [
      "c:\\Users\\Uma\\anaconda3\\envs\\phase1\\lib\\site-packages\\seaborn\\_oldcore.py:1498: FutureWarning: is_categorical_dtype is deprecated and will be removed in a future version. Use isinstance(dtype, CategoricalDtype) instead\n",
      "  if pd.api.types.is_categorical_dtype(vector):\n",
      "c:\\Users\\Uma\\anaconda3\\envs\\phase1\\lib\\site-packages\\seaborn\\_oldcore.py:1119: FutureWarning: use_inf_as_na option is deprecated and will be removed in a future version. Convert inf values to NaN before operating instead.\n",
      "  with pd.option_context('mode.use_inf_as_na', True):\n"
     ]
    },
    {
     "data": {
      "text/plain": [
       "<Axes: xlabel='Review Rating', ylabel='Count'>"
      ]
     },
     "execution_count": 36,
     "metadata": {},
     "output_type": "execute_result"
    },
    {
     "data": {
      "image/png": "[encoded data removed]",
      "text/plain": [
       "<Figure size 640x480 with 1 Axes>"
      ]
     },
     "metadata": {},
     "output_type": "display_data"
    }
   ],
   "source": [
    "# TODO: plot a seaborn histogram for the \"Review Rating\" column\n",
    "\n",
    "sns.histplot(data = df, x = 'Review Rating')"
   ]
  },
  {
   "cell_type": "code",
   "execution_count": 37,
   "metadata": {},
   "outputs": [
    {
     "name": "stderr",
     "output_type": "stream",
     "text": [
      "c:\\Users\\Uma\\anaconda3\\envs\\phase1\\lib\\site-packages\\seaborn\\_oldcore.py:1498: FutureWarning: is_categorical_dtype is deprecated and will be removed in a future version. Use isinstance(dtype, CategoricalDtype) instead\n",
      "  if pd.api.types.is_categorical_dtype(vector):\n",
      "c:\\Users\\Uma\\anaconda3\\envs\\phase1\\lib\\site-packages\\seaborn\\_oldcore.py:1119: FutureWarning: use_inf_as_na option is deprecated and will be removed in a future version. Convert inf values to NaN before operating instead.\n",
      "  with pd.option_context('mode.use_inf_as_na', True):\n"
     ]
    },
    {
     "data": {
      "text/plain": [
       "<Axes: xlabel='Previous Purchases', ylabel='Count'>"
      ]
     },
     "execution_count": 37,
     "metadata": {},
     "output_type": "execute_result"
    },
    {
     "data": {
      "image/png": "[encoded data removed]",
      "text/plain": [
       "<Figure size 640x480 with 1 Axes>"
      ]
     },
     "metadata": {},
     "output_type": "display_data"
    }
   ],
   "source": [
    "# TODO: plot a seaborn histogram for the \"Previous Purchases\" column\n",
    "\n",
    "sns.histplot(data = df, x = 'Previous Purchases')"
   ]
  },
  {
   "cell_type": "code",
   "execution_count": 38,
   "metadata": {},
   "outputs": [
    {
     "data": {
      "text/plain": [
       "Gender\n",
       "Male          1971\n",
       "Female        1894\n",
       "Non-binary      35\n",
       "Name: count, dtype: int64"
      ]
     },
     "execution_count": 38,
     "metadata": {},
     "output_type": "execute_result"
    }
   ],
   "source": [
    "# TODO: count the frequency of unique values in the \"Gender\" column, save this value into a new dataframe named \"gender_counts\"\n",
    "# Documentation: https://pandas.pydata.org/docs/reference/api/pandas.DataFrame.value_counts.html\n",
    "\n",
    "gender_counts = df.value_counts('Gender')\n",
    "gender_counts"
   ]
  },
  {
   "cell_type": "code",
   "execution_count": 40,
   "metadata": {},
   "outputs": [
    {
     "data": {
      "text/plain": [
       "<Axes: xlabel='Gender'>"
      ]
     },
     "execution_count": 40,
     "metadata": {},
     "output_type": "execute_result"
    },
    {
     "data": {
      "image/png": "[encoded data removed]",
      "text/plain": [
       "<Figure size 640x480 with 1 Axes>"
      ]
     },
     "metadata": {},
     "output_type": "display_data"
    }
   ],
   "source": [
    "# TODO: plot a matplotlib barplot for the gender_counts dataframe\n",
    "# Documentation: https://pandas.pydata.org/docs/reference/api/pandas.DataFrame.plot.bar.html\n",
    "\n",
    "gender_counts.plot.bar()"
   ]
  },
  {
   "cell_type": "code",
   "execution_count": 43,
   "metadata": {},
   "outputs": [],
   "source": [
    "# TODO: count the frequency of unique values in the \"Season\" column, save this value into a new dataframe named \"season_counts\"\n",
    "\n",
    "season_counts = df.value_counts('Season')"
   ]
  },
  {
   "cell_type": "code",
   "execution_count": 44,
   "metadata": {},
   "outputs": [
    {
     "data": {
      "text/plain": [
       "<Axes: xlabel='Season'>"
      ]
     },
     "execution_count": 44,
     "metadata": {},
     "output_type": "execute_result"
    },
    {
     "data": {
      "image/png": "[encoded data removed]",
      "text/plain": [
       "<Figure size 640x480 with 1 Axes>"
      ]
     },
     "metadata": {},
     "output_type": "display_data"
    }
   ],
   "source": [
    "# TODO: plot a matplotlib barplot for the season_counts dataframe\n",
    "\n",
    "season_counts.plot.bar()"
   ]
  },
  {
   "cell_type": "code",
   "execution_count": 45,
   "metadata": {},
   "outputs": [
    {
     "data": {
      "text/plain": [
       "Shipping Type\n",
       "Standard          2162\n",
       "2-Day Shipping    1173\n",
       "Next Day Air       284\n",
       "Express            279\n",
       "Store Pickup         2\n",
       "Name: count, dtype: int64"
      ]
     },
     "execution_count": 45,
     "metadata": {},
     "output_type": "execute_result"
    }
   ],
   "source": [
    "# TODO: count the frequency of unique values in the \"Shipping Type\" column, save this value into a new dataframe named \"ship_counts\"\n",
    "\n",
    "shipping_counts = df.value_counts('Shipping Type')\n",
    "shipping_counts"
   ]
  },
  {
   "cell_type": "code",
   "execution_count": null,
   "metadata": {},
   "outputs": [],
   "source": []
  },
  {
   "cell_type": "code",
   "execution_count": 46,
   "metadata": {},
   "outputs": [
    {
     "data": {
      "text/plain": [
       "<Axes: xlabel='Shipping Type'>"
      ]
     },
     "execution_count": 46,
     "metadata": {},
     "output_type": "execute_result"
    },
    {
     "data": {
      "image/png": "[encoded data removed]",
      "text/plain": [
       "<Figure size 640x480 with 1 Axes>"
      ]
     },
     "metadata": {},
     "output_type": "display_data"
    }
   ],
   "source": [
    "# TODO: plot a matplotlib barplot for the shipping_counts dataframe\n",
    "\n",
    "shipping_counts.plot.bar()"
   ]
  },
  {
   "cell_type": "code",
   "execution_count": 49,
   "metadata": {},
   "outputs": [
    {
     "data": {
      "text/plain": [
       "Promo Code Used\n",
       "No     2223\n",
       "Yes    1677\n",
       "Name: count, dtype: int64"
      ]
     },
     "execution_count": 49,
     "metadata": {},
     "output_type": "execute_result"
    }
   ],
   "source": [
    "# TODO: count the frequency of unique values in the \"Promo Code Used\" column, save this value into a new dataframe named \"promo_counts\"\n",
    "\n",
    "promo_counts = df.value_counts('Promo Code Used')\n",
    "promo_counts"
   ]
  },
  {
   "cell_type": "code",
   "execution_count": 50,
   "metadata": {},
   "outputs": [
    {
     "data": {
      "text/plain": [
       "<Axes: xlabel='Promo Code Used'>"
      ]
     },
     "execution_count": 50,
     "metadata": {},
     "output_type": "execute_result"
    },
    {
     "data": {
      "image/png": "[encoded data removed]",
      "text/plain": [
       "<Figure size 640x480 with 1 Axes>"
      ]
     },
     "metadata": {},
     "output_type": "display_data"
    }
   ],
   "source": [
    "# TODO: plot a matplotlib barplot for the promo_counts dataframe\n",
    "\n",
    "promo_counts.plot.bar()"
   ]
  },
  {
   "cell_type": "code",
   "execution_count": null,
   "metadata": {},
   "outputs": [],
   "source": [
    "# TODO: count the frequency of unique values in the \"Payment Method\" column, save this value into a new dataframe named \"pay_counts\"\n",
    "\n",
    "..."
   ]
  },
  {
   "cell_type": "code",
   "execution_count": null,
   "metadata": {},
   "outputs": [],
   "source": [
    "# TODO: plot a matplotlib barplot for the pay_counts dataframe\n",
    "\n",
    "..."
   ]
  },
  {
   "cell_type": "code",
   "execution_count": null,
   "metadata": {},
   "outputs": [],
   "source": [
    "# TODO: count the frequency of unique values in the \"Frequency of Purchases\" column, save this value into a new dataframe named \"purch_counts\"\n",
    "\n",
    "..."
   ]
  },
  {
   "cell_type": "code",
   "execution_count": null,
   "metadata": {},
   "outputs": [],
   "source": [
    "# TODO: plot a matplotlib barplot for the purch_counts dataframe\n",
    "\n",
    "..."
   ]
  },
  {
   "cell_type": "code",
   "execution_count": null,
   "metadata": {},
   "outputs": [],
   "source": [
    "# TODO: count the frequency of unique values in the \"Location\" column, save this value into a new dataframe named \"loc_counts\"\n",
    "\n",
    "..."
   ]
  },
  {
   "cell_type": "code",
   "execution_count": null,
   "metadata": {},
   "outputs": [],
   "source": [
    "# TODO: plot a horizontal barplot for the loc_counts dataframe\n",
    "# Documentation: https://pandas.pydata.org/docs/reference/api/pandas.DataFrame.plot.barh.html\n",
    "# Hint: resize the figure using \"plt.figure(figsize=(10,10))\" to \"unsquish\" your visualization\n",
    "\n",
    "..."
   ]
  },
  {
   "cell_type": "markdown",
   "metadata": {},
   "source": [
    "## Bivariate Analysis\n",
    "\n",
    "Let's generate visualizatons for relationships between multiple numeric variables to get an idea of patterns and clusters that might be present in our dataset."
   ]
  },
  {
   "cell_type": "code",
   "execution_count": null,
   "metadata": {},
   "outputs": [],
   "source": [
    "# TODO: Create a boxplot that reveals the range of \"Purchase Amount (USD)\" for each \"Gender\" \n",
    "# Documentation: https://seaborn.pydata.org/generated/seaborn.boxplot.html\n",
    "\n",
    "..."
   ]
  },
  {
   "cell_type": "code",
   "execution_count": null,
   "metadata": {},
   "outputs": [],
   "source": [
    "# TODO: Create a boxplot that reveals the range of \"Purchase Amount (USD)\" for each \"Season\" \n",
    "# Documentation: https://seaborn.pydata.org/generated/seaborn.boxplot.html\n",
    "\n",
    "..."
   ]
  },
  {
   "cell_type": "code",
   "execution_count": null,
   "metadata": {},
   "outputs": [],
   "source": [
    "# TODO: Create a boxplot that reveals the range of \"Purchase Amount (USD)\" for each \"Review Rating\" \n",
    "# Documentation: https://seaborn.pydata.org/generated/seaborn.boxplot.html\n",
    "\n",
    "..."
   ]
  },
  {
   "cell_type": "code",
   "execution_count": null,
   "metadata": {},
   "outputs": [],
   "source": [
    "# TODO: Create a boxplot that reveals the range of \"Purchase Amount (USD)\" for each \"Promo Code Used\" \n",
    "# Documentation: https://seaborn.pydata.org/generated/seaborn.boxplot.html\n",
    "\n",
    "..."
   ]
  },
  {
   "cell_type": "code",
   "execution_count": null,
   "metadata": {},
   "outputs": [],
   "source": [
    "# TODO: Create a boxplot that reveals the range of \"Payment Method\" for each \"Purchase Amount (USD)\"\n",
    "# Documentation: https://seaborn.pydata.org/generated/seaborn.boxplot.html\n",
    "\n",
    "..."
   ]
  },
  {
   "cell_type": "code",
   "execution_count": null,
   "metadata": {},
   "outputs": [],
   "source": [
    "# TODO: plot a grid of diagrams on all numeric columns where the upper-half of the grid are scatter-plots\n",
    "# the bottom-half are kde-plots\n",
    "# and the diagonal is a histplot\n",
    "# Documentation: https://seaborn.pydata.org/tutorial/axis_grids.html\n",
    "# Hint: This might take a few seconds to load\n",
    "# Hint: to read the kde diagrams in the bottom-half check out https://www.greenbelly.co/pages/contour-lines\n",
    "\n",
    "..."
   ]
  },
  {
   "cell_type": "markdown",
   "metadata": {},
   "source": [
    "## Exploratory Data Analysis II\n",
    "\n",
    "In the next section, answer a few questions regarding your dataset using the visualizations you've generated."
   ]
  },
  {
   "cell_type": "markdown",
   "metadata": {},
   "source": [
    "### Q1\n",
    "\n",
    "Which state contains the most amount of shoppers? Which state contains the least?"
   ]
  },
  {
   "cell_type": "markdown",
   "metadata": {},
   "source": [
    "Answer here"
   ]
  },
  {
   "cell_type": "markdown",
   "metadata": {},
   "source": [
    "### Q2\n",
    "\n",
    "Which season has the largest amount of purchases?"
   ]
  },
  {
   "cell_type": "markdown",
   "metadata": {},
   "source": [
    "Answer here"
   ]
  },
  {
   "cell_type": "markdown",
   "metadata": {},
   "source": [
    "### Q3\n",
    "\n",
    "What is the most popular form of payment for our customers in the US? What is the least popular form of payment?"
   ]
  },
  {
   "cell_type": "markdown",
   "metadata": {},
   "source": [
    "Answer here"
   ]
  },
  {
   "cell_type": "markdown",
   "metadata": {},
   "source": [
    "### Q4\n",
    "\n",
    "What is the most popular form of shipping for our customers in the US? What is the least popular form of shipping?"
   ]
  },
  {
   "cell_type": "markdown",
   "metadata": {},
   "source": [
    "Answer here"
   ]
  },
  {
   "cell_type": "markdown",
   "metadata": {},
   "source": [
    "### Q5\n",
    "\n",
    "What kind of distribution do we observe for our `Age` column? What does this tell us about the typical shopper in the US?"
   ]
  },
  {
   "cell_type": "markdown",
   "metadata": {},
   "source": [
    "Answer here"
   ]
  },
  {
   "cell_type": "markdown",
   "metadata": {},
   "source": [
    "### Q6\n",
    "\n",
    "What kind of distribution do we observe for our `Purchase Amount (USD)` column? Why might this be? Take a look at the boxplots that you've generated to help answer this question."
   ]
  },
  {
   "cell_type": "markdown",
   "metadata": {},
   "source": [
    "Answer here"
   ]
  }
 ],
 "metadata": {
  "kernelspec": {
   "display_name": "phase1",
   "language": "python",
   "name": "python3"
  },
  "language_info": {
   "codemirror_mode": {
    "name": "ipython",
    "version": 3
   },
   "file_extension": ".py",
   "mimetype": "text/x-python",
   "name": "python",
   "nbconvert_exporter": "python",
   "pygments_lexer": "ipython3",
   "version": "3.9.18"
  }
 },
 "nbformat": 4,
 "nbformat_minor": 2
}
